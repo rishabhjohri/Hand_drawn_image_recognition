{
  "nbformat": 4,
  "nbformat_minor": 0,
  "metadata": {
    "colab": {
      "provenance": []
    },
    "kernelspec": {
      "name": "python3",
      "display_name": "Python 3"
    },
    "language_info": {
      "name": "python"
    }
  },
  "cells": [
    {
      "cell_type": "code",
      "execution_count": null,
      "metadata": {
        "id": "vQB-9axqZDM2"
      },
      "outputs": [],
      "source": [
        "import os\n",
        "import glob\n",
        "import sklearn\n",
        "import numpy as np\n",
        "import pandas as pd\n",
        "import seaborn as sns\n",
        "import urllib.request\n",
        "import tensorflow as tf\n",
        "from PIL import Image as im\n",
        "from matplotlib import pyplot\n",
        "from tensorflow import keras\n",
        "from tensorflow.keras import layers\n",
        "from sklearn.model_selection import KFold\n",
        "from sklearn.metrics import accuracy_score"
      ]
    },
    {
      "cell_type": "code",
      "source": [
        "\"\"\"Importing images of following classes\"\"\"\n",
        "\n",
        "classes = ['cat','bicycle', 'bear','airplane',\n",
        "                'ant','banana','bench','book',\n",
        "                'bottlecap', 'bread']\n",
        "\n",
        "url = 'https://storage.googleapis.com/quickdraw_dataset/full/numpy_bitmap/'\n",
        "\n",
        "\"\"\"Making combined image dataset of all classes\"\"\"\n",
        "\n",
        "# Download the data of the aforementioned classes\n",
        "for class_ in classes:\n",
        "\tcomplete_url = url+class_+\".npy\"\n",
        "\tprint(\"Downloading : \",complete_url)\n",
        "\turllib.request.urlretrieve(complete_url, \"./\"+class_+\".npy\")\n",
        "\n",
        "# Grep all the downloaded files and add them to a list\n",
        "data_sets = glob.glob(os.path.join('./*.npy'))"
      ],
      "metadata": {
        "colab": {
          "base_uri": "https://localhost:8080/"
        },
        "id": "P05XpHNyZIzX",
        "outputId": "e3ecc25c-d0f9-4cd7-860e-45c8a8755d42"
      },
      "execution_count": null,
      "outputs": [
        {
          "output_type": "stream",
          "name": "stdout",
          "text": [
            "Downloading :  https://storage.googleapis.com/quickdraw_dataset/full/numpy_bitmap/cat.npy\n",
            "Downloading :  https://storage.googleapis.com/quickdraw_dataset/full/numpy_bitmap/bicycle.npy\n",
            "Downloading :  https://storage.googleapis.com/quickdraw_dataset/full/numpy_bitmap/bear.npy\n",
            "Downloading :  https://storage.googleapis.com/quickdraw_dataset/full/numpy_bitmap/airplane.npy\n",
            "Downloading :  https://storage.googleapis.com/quickdraw_dataset/full/numpy_bitmap/ant.npy\n",
            "Downloading :  https://storage.googleapis.com/quickdraw_dataset/full/numpy_bitmap/banana.npy\n",
            "Downloading :  https://storage.googleapis.com/quickdraw_dataset/full/numpy_bitmap/bench.npy\n",
            "Downloading :  https://storage.googleapis.com/quickdraw_dataset/full/numpy_bitmap/book.npy\n",
            "Downloading :  https://storage.googleapis.com/quickdraw_dataset/full/numpy_bitmap/bottlecap.npy\n",
            "Downloading :  https://storage.googleapis.com/quickdraw_dataset/full/numpy_bitmap/bread.npy\n"
          ]
        }
      ]
    },
    {
      "cell_type": "code",
      "source": [
        "\"\"\"Creating train and test datasets\"\"\"\n",
        "\n",
        "#initialize variables\n",
        "# Train data\n",
        "input = np.empty([0, 784])\n",
        "# Test data\n",
        "labels = np.empty([0])\n",
        "index = 0\n",
        "\n",
        "# Concatenate the train and test data from all the files\n",
        "for file in data_sets:\n",
        "\tdata = np.load(file)\n",
        "\tdata = data[0: 6000, :]\n",
        "\tinput = np.concatenate((input, data), axis=0)\n",
        "\tlabels = np.append(labels, [index]*data.shape[0])\n",
        "\tindex += 1"
      ],
      "metadata": {
        "id": "G9-uSwmTZV-Q"
      },
      "execution_count": null,
      "outputs": []
    },
    {
      "cell_type": "code",
      "source": [
        "# K-Folds cross-validator\n",
        "n_fold = 5\n",
        "kf = KFold(n_splits=n_fold, shuffle=True, random_state=9)\n",
        "x_train, x_test, y_train, y_test = None, None, None, None\n",
        "random_ordering = np.random.permutation(input.shape[0])\n",
        "input = input[random_ordering, :]\n",
        "labels = labels[random_ordering]"
      ],
      "metadata": {
        "id": "0xp8b0cLZnlw"
      },
      "execution_count": null,
      "outputs": []
    },
    {
      "cell_type": "code",
      "source": [
        "# Divide the dataset into train and test\n",
        "for train_index, test_index in kf.split(input):\n",
        "    x_train, x_test = input[train_index], input[test_index]\n",
        "    y_train, y_test = labels[train_index], labels[test_index]\n",
        "    break"
      ],
      "metadata": {
        "id": "Tzfz4r2jZqr2"
      },
      "execution_count": null,
      "outputs": []
    },
    {
      "cell_type": "code",
      "source": [
        "print(len(x_train))\n",
        "print(len(x_test))"
      ],
      "metadata": {
        "colab": {
          "base_uri": "https://localhost:8080/"
        },
        "id": "W-BBlUF9ZtLs",
        "outputId": "a142dd9d-922e-4f20-f8e5-9da3aa6b672a"
      },
      "execution_count": null,
      "outputs": [
        {
          "output_type": "stream",
          "name": "stdout",
          "text": [
            "48000\n",
            "12000\n"
          ]
        }
      ]
    },
    {
      "cell_type": "code",
      "source": [
        "print(x_train[:20])\n",
        "print(x_test[:20])\n",
        "print(y_train[:20])\n",
        "print(y_test[:20])"
      ],
      "metadata": {
        "colab": {
          "base_uri": "https://localhost:8080/"
        },
        "id": "g9SRR728Zv_p",
        "outputId": "33159a64-6b1a-4469-c38c-feda3fcc881b"
      },
      "execution_count": null,
      "outputs": [
        {
          "output_type": "stream",
          "name": "stdout",
          "text": [
            "[[0. 0. 0. ... 0. 0. 0.]\n",
            " [0. 0. 0. ... 0. 0. 0.]\n",
            " [0. 0. 0. ... 0. 0. 0.]\n",
            " ...\n",
            " [0. 0. 0. ... 0. 0. 0.]\n",
            " [0. 0. 0. ... 0. 0. 0.]\n",
            " [0. 0. 0. ... 0. 0. 0.]]\n",
            "[[0. 0. 0. ... 0. 0. 0.]\n",
            " [0. 0. 0. ... 0. 0. 0.]\n",
            " [0. 0. 0. ... 0. 0. 0.]\n",
            " ...\n",
            " [0. 0. 0. ... 0. 0. 0.]\n",
            " [0. 0. 0. ... 0. 0. 0.]\n",
            " [0. 0. 0. ... 0. 0. 0.]]\n",
            "[9. 0. 0. 7. 4. 9. 8. 7. 9. 4. 3. 7. 2. 3. 0. 4. 5. 9. 6. 9.]\n",
            "[1. 3. 9. 7. 3. 2. 4. 0. 6. 1. 9. 8. 8. 0. 1. 9. 2. 2. 9. 1.]\n"
          ]
        }
      ]
    },
    {
      "cell_type": "code",
      "source": [
        "\"\"\"Visualising the input images\"\"\"\n",
        "\n",
        "import matplotlib.pyplot as plt\n",
        "image_size = 28\n",
        "x_train_ = x_train.reshape(x_train.shape[0], image_size, image_size)\n",
        "for i in range(16):\n",
        "  plt.grid(False)\n",
        "  plt.imshow(x_train_[i], cmap=plt.cm.binary)\n",
        "  plt.show()"
      ],
      "metadata": {
        "colab": {
          "base_uri": "https://localhost:8080/",
          "height": 1000
        },
        "id": "ALIhVwu0aYrQ",
        "outputId": "fc530267-928d-4f23-965d-f51e71dec1f9"
      },
      "execution_count": null,
      "outputs": [
        {
          "output_type": "display_data",
          "data": {
            "text/plain": [
              "<Figure size 640x480 with 1 Axes>"
            ],
            "image/png": "[encoded data removed]"
          },
          "metadata": {}
        },
        {
          "output_type": "display_data",
          "data": {
            "text/plain": [
              "<Figure size 640x480 with 1 Axes>"
            ],
            "image/png": "[encoded data removed]"
          },
          "metadata": {}
        },
        {
          "output_type": "display_data",
          "data": {
            "text/plain": [
              "<Figure size 640x480 with 1 Axes>"
            ],
            "image/png": "[encoded data removed]"
          },
          "metadata": {}
        },
        {
          "output_type": "display_data",
          "data": {
            "text/plain": [
              "<Figure size 640x480 with 1 Axes>"
            ],
            "image/png": "[encoded data removed]"
          },
          "metadata": {}
        },
        {
          "output_type": "display_data",
          "data": {
            "text/plain": [
              "<Figure size 640x480 with 1 Axes>"
            ],
            "image/png": "[encoded data removed]"
          },
          "metadata": {}
        },
        {
          "output_type": "display_data",
          "data": {
            "text/plain": [
              "<Figure size 640x480 with 1 Axes>"
            ],
            "image/png": "[encoded data removed]"
          },
          "metadata": {}
        },
        {
          "output_type": "display_data",
          "data": {
            "text/plain": [
              "<Figure size 640x480 with 1 Axes>"
            ],
            "image/png": "[encoded data removed]"
          },
          "metadata": {}
        },
        {
          "output_type": "display_data",
          "data": {
            "text/plain": [
              "<Figure size 640x480 with 1 Axes>"
            ],
            "image/png": "[encoded data removed]"
          },
          "metadata": {}
        },
        {
          "output_type": "display_data",
          "data": {
            "text/plain": [
              "<Figure size 640x480 with 1 Axes>"
            ],
            "image/png": "[encoded data removed]"
          },
          "metadata": {}
        },
        {
          "output_type": "display_data",
          "data": {
            "text/plain": [
              "<Figure size 640x480 with 1 Axes>"
            ],
            "image/png": "[encoded data removed]"
          },
          "metadata": {}
        },
        {
          "output_type": "display_data",
          "data": {
            "text/plain": [
              "<Figure size 640x480 with 1 Axes>"
            ],
            "image/png": "[encoded data removed]"
          },
          "metadata": {}
        },
        {
          "output_type": "display_data",
          "data": {
            "text/plain": [
              "<Figure size 640x480 with 1 Axes>"
            ],
            "image/png": "[encoded data removed]"
          },
          "metadata": {}
        },
        {
          "output_type": "display_data",
          "data": {
            "text/plain": [
              "<Figure size 640x480 with 1 Axes>"
            ],
            "image/png": "[encoded data removed]"
          },
          "metadata": {}
        },
        {
          "output_type": "display_data",
          "data": {
            "text/plain": [
              "<Figure size 640x480 with 1 Axes>"
            ],
            "image/png": "[encoded data removed]"
          },
          "metadata": {}
        },
        {
          "output_type": "display_data",
          "data": {
            "text/plain": [
              "<Figure size 640x480 with 1 Axes>"
            ],
            "image/png": "[encoded data removed]"
          },
          "metadata": {}
        },
        {
          "output_type": "display_data",
          "data": {
            "text/plain": [
              "<Figure size 640x480 with 1 Axes>"
            ],
            "image/png": "[encoded data removed]"
          },
          "metadata": {}
        }
      ]
    },
    {
      "cell_type": "code",
      "source": [
        "\"\"\"Normalisation\"\"\"\n",
        "\n",
        "# Divide all the values by 255 to normalize the image\n",
        "x_train /= 255.0\n",
        "x_test /= 255.0"
      ],
      "metadata": {
        "id": "FsVl5OBrafKu"
      },
      "execution_count": null,
      "outputs": []
    },
    {
      "cell_type": "code",
      "source": [
        "# Saving for feature selection and 1d classifiers\n",
        "x_train_fea = x_train\n",
        "x_test_fea = x_test\n",
        "x_train_1d = x_train\n",
        "x_test_1d = x_test"
      ],
      "metadata": {
        "id": "M0gWcTCxanOr"
      },
      "execution_count": null,
      "outputs": []
    },
    {
      "cell_type": "code",
      "source": [
        "\"\"\"Reshaping\"\"\"\n",
        "\n",
        "# Reshape the image size to be 28 x 28\n",
        "image_size = 28\n",
        "x_train = x_train.reshape(x_train.shape[0], image_size, image_size, 1)\n",
        "x_test = x_test.reshape(x_test.shape[0], image_size, image_size, 1)\n",
        "\n",
        "num_classes = len(classes)"
      ],
      "metadata": {
        "id": "cUOako7YaquX"
      },
      "execution_count": null,
      "outputs": []
    },
    {
      "cell_type": "code",
      "source": [
        "\"\"\"# Random Forest\"\"\"\n",
        "\n",
        "from sklearn.model_selection import GridSearchCV\n",
        "#from sklearn.ensemble.forest import RandomForestClassifier\n",
        "from sklearn.ensemble import RandomForestClassifier\n",
        "parameters = {'n_estimators': [100,120,140,160]}\n",
        "\n",
        "clf_rf = RandomForestClassifier(n_estimators = 150, n_jobs=-1, random_state=0)\n",
        "# model = GridSearchCV(clf_rf, parameters, n_jobs=-1)\n",
        "clf_rf.fit(x_train_1d, y_train)\n"
      ],
      "metadata": {
        "colab": {
          "base_uri": "https://localhost:8080/",
          "height": 74
        },
        "id": "jvSmOMoUatxP",
        "outputId": "0331f4c3-4c23-43ff-ca61-193018cf7fa8"
      },
      "execution_count": null,
      "outputs": [
        {
          "output_type": "execute_result",
          "data": {
            "text/plain": [
              "RandomForestClassifier(n_estimators=150, n_jobs=-1, random_state=0)"
            ],
            "text/html": [
              "<style>#sk-container-id-1 {color: black;background-color: white;}#sk-container-id-1 pre{padding: 0;}#sk-container-id-1 div.sk-toggleable {background-color: white;}#sk-container-id-1 label.sk-toggleable__label {cursor: pointer;display: block;width: 100%;margin-bottom: 0;padding: 0.3em;box-sizing: border-box;text-align: center;}#sk-container-id-1 label.sk-toggleable__label-arrow:before {content: \"▸\";float: left;margin-right: 0.25em;color: #696969;}#sk-container-id-1 label.sk-toggleable__label-arrow:hover:before {color: black;}#sk-container-id-1 div.sk-estimator:hover label.sk-toggleable__label-arrow:before {color: black;}#sk-container-id-1 div.sk-toggleable__content {max-height: 0;max-width: 0;overflow: hidden;text-align: left;background-color: #f0f8ff;}#sk-container-id-1 div.sk-toggleable__content pre {margin: 0.2em;color: black;border-radius: 0.25em;background-color: #f0f8ff;}#sk-container-id-1 input.sk-toggleable__control:checked~div.sk-toggleable__content {max-height: 200px;max-width: 100%;overflow: auto;}#sk-container-id-1 input.sk-toggleable__control:checked~label.sk-toggleable__label-arrow:before {content: \"▾\";}#sk-container-id-1 div.sk-estimator input.sk-toggleable__control:checked~label.sk-toggleable__label {background-color: #d4ebff;}#sk-container-id-1 div.sk-label input.sk-toggleable__control:checked~label.sk-toggleable__label {background-color: #d4ebff;}#sk-container-id-1 input.sk-hidden--visually {border: 0;clip: rect(1px 1px 1px 1px);clip: rect(1px, 1px, 1px, 1px);height: 1px;margin: -1px;overflow: hidden;padding: 0;position: absolute;width: 1px;}#sk-container-id-1 div.sk-estimator {font-family: monospace;background-color: #f0f8ff;border: 1px dotted black;border-radius: 0.25em;box-sizing: border-box;margin-bottom: 0.5em;}#sk-container-id-1 div.sk-estimator:hover {background-color: #d4ebff;}#sk-container-id-1 div.sk-parallel-item::after {content: \"\";width: 100%;border-bottom: 1px solid gray;flex-grow: 1;}#sk-container-id-1 div.sk-label:hover label.sk-toggleable__label {background-color: #d4ebff;}#sk-container-id-1 div.sk-serial::before {content: \"\";position: absolute;border-left: 1px solid gray;box-sizing: border-box;top: 0;bottom: 0;left: 50%;z-index: 0;}#sk-container-id-1 div.sk-serial {display: flex;flex-direction: column;align-items: center;background-color: white;padding-right: 0.2em;padding-left: 0.2em;position: relative;}#sk-container-id-1 div.sk-item {position: relative;z-index: 1;}#sk-container-id-1 div.sk-parallel {display: flex;align-items: stretch;justify-content: center;background-color: white;position: relative;}#sk-container-id-1 div.sk-item::before, #sk-container-id-1 div.sk-parallel-item::before {content: \"\";position: absolute;border-left: 1px solid gray;box-sizing: border-box;top: 0;bottom: 0;left: 50%;z-index: -1;}#sk-container-id-1 div.sk-parallel-item {display: flex;flex-direction: column;z-index: 1;position: relative;background-color: white;}#sk-container-id-1 div.sk-parallel-item:first-child::after {align-self: flex-end;width: 50%;}#sk-container-id-1 div.sk-parallel-item:last-child::after {align-self: flex-start;width: 50%;}#sk-container-id-1 div.sk-parallel-item:only-child::after {width: 0;}#sk-container-id-1 div.sk-dashed-wrapped {border: 1px dashed gray;margin: 0 0.4em 0.5em 0.4em;box-sizing: border-box;padding-bottom: 0.4em;background-color: white;}#sk-container-id-1 div.sk-label label {font-family: monospace;font-weight: bold;display: inline-block;line-height: 1.2em;}#sk-container-id-1 div.sk-label-container {text-align: center;}#sk-container-id-1 div.sk-container {/* jupyter's `normalize.less` sets `[hidden] { display: none; }` but bootstrap.min.css set `[hidden] { display: none !important; }` so we also need the `!important` here to be able to override the default hidden behavior on the sphinx rendered scikit-learn.org. See: https://github.com/scikit-learn/scikit-learn/issues/21755 */display: inline-block !important;position: relative;}#sk-container-id-1 div.sk-text-repr-fallback {display: none;}</style><div id=\"sk-container-id-1\" class=\"sk-top-container\"><div class=\"sk-text-repr-fallback\"><pre>RandomForestClassifier(n_estimators=150, n_jobs=-1, random_state=0)</pre><b>In a Jupyter environment, please rerun this cell to show the HTML representation or trust the notebook. <br />On GitHub, the HTML representation is unable to render, please try loading this page with nbviewer.org.</b></div><div class=\"sk-container\" hidden><div class=\"sk-item\"><div class=\"sk-estimator sk-toggleable\"><input class=\"sk-toggleable__control sk-hidden--visually\" id=\"sk-estimator-id-1\" type=\"checkbox\" checked><label for=\"sk-estimator-id-1\" class=\"sk-toggleable__label sk-toggleable__label-arrow\">RandomForestClassifier</label><div class=\"sk-toggleable__content\"><pre>RandomForestClassifier(n_estimators=150, n_jobs=-1, random_state=0)</pre></div></div></div></div></div>"
            ]
          },
          "metadata": {},
          "execution_count": 15
        }
      ]
    },
    {
      "cell_type": "code",
      "source": [
        "\"\"\"Predicting\"\"\"\n",
        "\n",
        "y_pred = clf_rf.predict(x_test_1d)\n",
        "y_pred[:10]\n"
      ],
      "metadata": {
        "colab": {
          "base_uri": "https://localhost:8080/"
        },
        "id": "NE8JA1X5awxs",
        "outputId": "c34e644e-163b-4aec-b36a-486211b18821"
      },
      "execution_count": null,
      "outputs": [
        {
          "output_type": "execute_result",
          "data": {
            "text/plain": [
              "array([1., 7., 9., 7., 0., 2., 4., 0., 6., 1.])"
            ]
          },
          "metadata": {},
          "execution_count": 16
        }
      ]
    },
    {
      "cell_type": "code",
      "source": [
        "\"\"\"Checkng Test Accuracy\"\"\"\n",
        "\n",
        "accuracy = accuracy_score(y_test, y_pred)\n",
        "print(accuracy)"
      ],
      "metadata": {
        "colab": {
          "base_uri": "https://localhost:8080/"
        },
        "id": "du-3KxFMbQUO",
        "outputId": "6979ca37-7cbf-4c98-a41c-54f12cc10236"
      },
      "execution_count": null,
      "outputs": [
        {
          "output_type": "stream",
          "name": "stdout",
          "text": [
            "0.7768333333333334\n"
          ]
        }
      ]
    },
    {
      "cell_type": "code",
      "source": [
        "\"\"\"# KNN\"\"\"\n",
        "\n",
        "from sklearn.neighbors import KNeighborsClassifier\n",
        "\n",
        "tuning_parameters = {'n_neighbors': [1,3,5,7,9,11]}\n",
        "\n",
        "knn = KNeighborsClassifier(n_neighbors = 5, n_jobs=-1)\n",
        "# knn = GridSearchCV(clf_knn, tuning_parameters, n_jobs=-1)\n",
        "knn.fit(x_train_1d, y_train)\n"
      ],
      "metadata": {
        "colab": {
          "base_uri": "https://localhost:8080/",
          "height": 74
        },
        "id": "4a-KIFH6bTOb",
        "outputId": "e53e7905-3709-48b4-e5fe-383ed37862d3"
      },
      "execution_count": null,
      "outputs": [
        {
          "output_type": "execute_result",
          "data": {
            "text/plain": [
              "KNeighborsClassifier(n_jobs=-1)"
            ],
            "text/html": [
              "<style>#sk-container-id-2 {color: black;background-color: white;}#sk-container-id-2 pre{padding: 0;}#sk-container-id-2 div.sk-toggleable {background-color: white;}#sk-container-id-2 label.sk-toggleable__label {cursor: pointer;display: block;width: 100%;margin-bottom: 0;padding: 0.3em;box-sizing: border-box;text-align: center;}#sk-container-id-2 label.sk-toggleable__label-arrow:before {content: \"▸\";float: left;margin-right: 0.25em;color: #696969;}#sk-container-id-2 label.sk-toggleable__label-arrow:hover:before {color: black;}#sk-container-id-2 div.sk-estimator:hover label.sk-toggleable__label-arrow:before {color: black;}#sk-container-id-2 div.sk-toggleable__content {max-height: 0;max-width: 0;overflow: hidden;text-align: left;background-color: #f0f8ff;}#sk-container-id-2 div.sk-toggleable__content pre {margin: 0.2em;color: black;border-radius: 0.25em;background-color: #f0f8ff;}#sk-container-id-2 input.sk-toggleable__control:checked~div.sk-toggleable__content {max-height: 200px;max-width: 100%;overflow: auto;}#sk-container-id-2 input.sk-toggleable__control:checked~label.sk-toggleable__label-arrow:before {content: \"▾\";}#sk-container-id-2 div.sk-estimator input.sk-toggleable__control:checked~label.sk-toggleable__label {background-color: #d4ebff;}#sk-container-id-2 div.sk-label input.sk-toggleable__control:checked~label.sk-toggleable__label {background-color: #d4ebff;}#sk-container-id-2 input.sk-hidden--visually {border: 0;clip: rect(1px 1px 1px 1px);clip: rect(1px, 1px, 1px, 1px);height: 1px;margin: -1px;overflow: hidden;padding: 0;position: absolute;width: 1px;}#sk-container-id-2 div.sk-estimator {font-family: monospace;background-color: #f0f8ff;border: 1px dotted black;border-radius: 0.25em;box-sizing: border-box;margin-bottom: 0.5em;}#sk-container-id-2 div.sk-estimator:hover {background-color: #d4ebff;}#sk-container-id-2 div.sk-parallel-item::after {content: \"\";width: 100%;border-bottom: 1px solid gray;flex-grow: 1;}#sk-container-id-2 div.sk-label:hover label.sk-toggleable__label {background-color: #d4ebff;}#sk-container-id-2 div.sk-serial::before {content: \"\";position: absolute;border-left: 1px solid gray;box-sizing: border-box;top: 0;bottom: 0;left: 50%;z-index: 0;}#sk-container-id-2 div.sk-serial {display: flex;flex-direction: column;align-items: center;background-color: white;padding-right: 0.2em;padding-left: 0.2em;position: relative;}#sk-container-id-2 div.sk-item {position: relative;z-index: 1;}#sk-container-id-2 div.sk-parallel {display: flex;align-items: stretch;justify-content: center;background-color: white;position: relative;}#sk-container-id-2 div.sk-item::before, #sk-container-id-2 div.sk-parallel-item::before {content: \"\";position: absolute;border-left: 1px solid gray;box-sizing: border-box;top: 0;bottom: 0;left: 50%;z-index: -1;}#sk-container-id-2 div.sk-parallel-item {display: flex;flex-direction: column;z-index: 1;position: relative;background-color: white;}#sk-container-id-2 div.sk-parallel-item:first-child::after {align-self: flex-end;width: 50%;}#sk-container-id-2 div.sk-parallel-item:last-child::after {align-self: flex-start;width: 50%;}#sk-container-id-2 div.sk-parallel-item:only-child::after {width: 0;}#sk-container-id-2 div.sk-dashed-wrapped {border: 1px dashed gray;margin: 0 0.4em 0.5em 0.4em;box-sizing: border-box;padding-bottom: 0.4em;background-color: white;}#sk-container-id-2 div.sk-label label {font-family: monospace;font-weight: bold;display: inline-block;line-height: 1.2em;}#sk-container-id-2 div.sk-label-container {text-align: center;}#sk-container-id-2 div.sk-container {/* jupyter's `normalize.less` sets `[hidden] { display: none; }` but bootstrap.min.css set `[hidden] { display: none !important; }` so we also need the `!important` here to be able to override the default hidden behavior on the sphinx rendered scikit-learn.org. See: https://github.com/scikit-learn/scikit-learn/issues/21755 */display: inline-block !important;position: relative;}#sk-container-id-2 div.sk-text-repr-fallback {display: none;}</style><div id=\"sk-container-id-2\" class=\"sk-top-container\"><div class=\"sk-text-repr-fallback\"><pre>KNeighborsClassifier(n_jobs=-1)</pre><b>In a Jupyter environment, please rerun this cell to show the HTML representation or trust the notebook. <br />On GitHub, the HTML representation is unable to render, please try loading this page with nbviewer.org.</b></div><div class=\"sk-container\" hidden><div class=\"sk-item\"><div class=\"sk-estimator sk-toggleable\"><input class=\"sk-toggleable__control sk-hidden--visually\" id=\"sk-estimator-id-2\" type=\"checkbox\" checked><label for=\"sk-estimator-id-2\" class=\"sk-toggleable__label sk-toggleable__label-arrow\">KNeighborsClassifier</label><div class=\"sk-toggleable__content\"><pre>KNeighborsClassifier(n_jobs=-1)</pre></div></div></div></div></div>"
            ]
          },
          "metadata": {},
          "execution_count": 18
        }
      ]
    },
    {
      "cell_type": "code",
      "source": [
        "\"\"\"Predicting\"\"\"\n",
        "\n",
        "y_pred = knn.predict(x_test_1d)\n",
        "y_pred[:10]\n"
      ],
      "metadata": {
        "colab": {
          "base_uri": "https://localhost:8080/"
        },
        "id": "nBB3ANE_bY_2",
        "outputId": "39ccb76f-3776-439d-c004-7cb0ec3fbc67"
      },
      "execution_count": null,
      "outputs": [
        {
          "output_type": "execute_result",
          "data": {
            "text/plain": [
              "array([4., 5., 9., 2., 0., 0., 4., 0., 0., 1.])"
            ]
          },
          "metadata": {},
          "execution_count": 19
        }
      ]
    },
    {
      "cell_type": "code",
      "source": [
        "\"\"\"Testing Accuracy\"\"\"\n",
        "\n",
        "accuracy = accuracy_score(y_test, y_pred)\n",
        "print(accuracy)"
      ],
      "metadata": {
        "colab": {
          "base_uri": "https://localhost:8080/"
        },
        "id": "x_KSQLXkbZzu",
        "outputId": "78a08d53-7e7d-41ee-9699-efe0a0b6153a"
      },
      "execution_count": null,
      "outputs": [
        {
          "output_type": "stream",
          "name": "stdout",
          "text": [
            "0.7373333333333333\n"
          ]
        }
      ]
    },
    {
      "cell_type": "code",
      "source": [
        "\"\"\"# MLP\"\"\"\n",
        "\n",
        "from sklearn.neural_network import MLPClassifier\n",
        "\n",
        "tuning_parameaters = {'hidden_layer_sizes' : [(50,), (100,), (784,), (50,50), (100,100), (784,784), (50,50,50), (100,100,100)],\n",
        "                    'alpha' : list(10.0 ** -np.arange(1, 7))}\n",
        "\n",
        "mlp = MLPClassifier(hidden_layer_sizes=(100,100,100), random_state=0)\n",
        "# mlp = GridSearchCV(clf_mlp, param_grid=tuning_parameaters, n_jobs=-1)\n",
        "mlp.fit(x_train_1d, y_train)"
      ],
      "metadata": {
        "colab": {
          "base_uri": "https://localhost:8080/",
          "height": 74
        },
        "id": "HEliJKKRbg5K",
        "outputId": "be3f184b-6b1c-4551-d7e0-f24fc321705e"
      },
      "execution_count": null,
      "outputs": [
        {
          "output_type": "execute_result",
          "data": {
            "text/plain": [
              "MLPClassifier(hidden_layer_sizes=(100, 100, 100), random_state=0)"
            ],
            "text/html": [
              "<style>#sk-container-id-3 {color: black;background-color: white;}#sk-container-id-3 pre{padding: 0;}#sk-container-id-3 div.sk-toggleable {background-color: white;}#sk-container-id-3 label.sk-toggleable__label {cursor: pointer;display: block;width: 100%;margin-bottom: 0;padding: 0.3em;box-sizing: border-box;text-align: center;}#sk-container-id-3 label.sk-toggleable__label-arrow:before {content: \"▸\";float: left;margin-right: 0.25em;color: #696969;}#sk-container-id-3 label.sk-toggleable__label-arrow:hover:before {color: black;}#sk-container-id-3 div.sk-estimator:hover label.sk-toggleable__label-arrow:before {color: black;}#sk-container-id-3 div.sk-toggleable__content {max-height: 0;max-width: 0;overflow: hidden;text-align: left;background-color: #f0f8ff;}#sk-container-id-3 div.sk-toggleable__content pre {margin: 0.2em;color: black;border-radius: 0.25em;background-color: #f0f8ff;}#sk-container-id-3 input.sk-toggleable__control:checked~div.sk-toggleable__content {max-height: 200px;max-width: 100%;overflow: auto;}#sk-container-id-3 input.sk-toggleable__control:checked~label.sk-toggleable__label-arrow:before {content: \"▾\";}#sk-container-id-3 div.sk-estimator input.sk-toggleable__control:checked~label.sk-toggleable__label {background-color: #d4ebff;}#sk-container-id-3 div.sk-label input.sk-toggleable__control:checked~label.sk-toggleable__label {background-color: #d4ebff;}#sk-container-id-3 input.sk-hidden--visually {border: 0;clip: rect(1px 1px 1px 1px);clip: rect(1px, 1px, 1px, 1px);height: 1px;margin: -1px;overflow: hidden;padding: 0;position: absolute;width: 1px;}#sk-container-id-3 div.sk-estimator {font-family: monospace;background-color: #f0f8ff;border: 1px dotted black;border-radius: 0.25em;box-sizing: border-box;margin-bottom: 0.5em;}#sk-container-id-3 div.sk-estimator:hover {background-color: #d4ebff;}#sk-container-id-3 div.sk-parallel-item::after {content: \"\";width: 100%;border-bottom: 1px solid gray;flex-grow: 1;}#sk-container-id-3 div.sk-label:hover label.sk-toggleable__label {background-color: #d4ebff;}#sk-container-id-3 div.sk-serial::before {content: \"\";position: absolute;border-left: 1px solid gray;box-sizing: border-box;top: 0;bottom: 0;left: 50%;z-index: 0;}#sk-container-id-3 div.sk-serial {display: flex;flex-direction: column;align-items: center;background-color: white;padding-right: 0.2em;padding-left: 0.2em;position: relative;}#sk-container-id-3 div.sk-item {position: relative;z-index: 1;}#sk-container-id-3 div.sk-parallel {display: flex;align-items: stretch;justify-content: center;background-color: white;position: relative;}#sk-container-id-3 div.sk-item::before, #sk-container-id-3 div.sk-parallel-item::before {content: \"\";position: absolute;border-left: 1px solid gray;box-sizing: border-box;top: 0;bottom: 0;left: 50%;z-index: -1;}#sk-container-id-3 div.sk-parallel-item {display: flex;flex-direction: column;z-index: 1;position: relative;background-color: white;}#sk-container-id-3 div.sk-parallel-item:first-child::after {align-self: flex-end;width: 50%;}#sk-container-id-3 div.sk-parallel-item:last-child::after {align-self: flex-start;width: 50%;}#sk-container-id-3 div.sk-parallel-item:only-child::after {width: 0;}#sk-container-id-3 div.sk-dashed-wrapped {border: 1px dashed gray;margin: 0 0.4em 0.5em 0.4em;box-sizing: border-box;padding-bottom: 0.4em;background-color: white;}#sk-container-id-3 div.sk-label label {font-family: monospace;font-weight: bold;display: inline-block;line-height: 1.2em;}#sk-container-id-3 div.sk-label-container {text-align: center;}#sk-container-id-3 div.sk-container {/* jupyter's `normalize.less` sets `[hidden] { display: none; }` but bootstrap.min.css set `[hidden] { display: none !important; }` so we also need the `!important` here to be able to override the default hidden behavior on the sphinx rendered scikit-learn.org. See: https://github.com/scikit-learn/scikit-learn/issues/21755 */display: inline-block !important;position: relative;}#sk-container-id-3 div.sk-text-repr-fallback {display: none;}</style><div id=\"sk-container-id-3\" class=\"sk-top-container\"><div class=\"sk-text-repr-fallback\"><pre>MLPClassifier(hidden_layer_sizes=(100, 100, 100), random_state=0)</pre><b>In a Jupyter environment, please rerun this cell to show the HTML representation or trust the notebook. <br />On GitHub, the HTML representation is unable to render, please try loading this page with nbviewer.org.</b></div><div class=\"sk-container\" hidden><div class=\"sk-item\"><div class=\"sk-estimator sk-toggleable\"><input class=\"sk-toggleable__control sk-hidden--visually\" id=\"sk-estimator-id-3\" type=\"checkbox\" checked><label for=\"sk-estimator-id-3\" class=\"sk-toggleable__label sk-toggleable__label-arrow\">MLPClassifier</label><div class=\"sk-toggleable__content\"><pre>MLPClassifier(hidden_layer_sizes=(100, 100, 100), random_state=0)</pre></div></div></div></div></div>"
            ]
          },
          "metadata": {},
          "execution_count": 21
        }
      ]
    },
    {
      "cell_type": "code",
      "source": [
        "\"\"\"Predicting\"\"\"\n",
        "\n",
        "y_pred = mlp.predict(x_test_1d)\n",
        "y_pred[:10]"
      ],
      "metadata": {
        "colab": {
          "base_uri": "https://localhost:8080/"
        },
        "id": "9fz9MURzborC",
        "outputId": "9a8d5284-bf1a-470e-8218-ea3738c0cbe3"
      },
      "execution_count": null,
      "outputs": [
        {
          "output_type": "execute_result",
          "data": {
            "text/plain": [
              "array([1., 3., 9., 7., 0., 0., 4., 0., 2., 1.])"
            ]
          },
          "metadata": {},
          "execution_count": 22
        }
      ]
    },
    {
      "cell_type": "code",
      "source": [
        "\"\"\"Testing Accuracy\"\"\"\n",
        "\n",
        "accuracy = accuracy_score(y_test, y_pred)\n",
        "print(accuracy)"
      ],
      "metadata": {
        "colab": {
          "base_uri": "https://localhost:8080/"
        },
        "id": "8HcnV-v8brwK",
        "outputId": "2e917259-294c-4e4e-cd68-d95642998a89"
      },
      "execution_count": null,
      "outputs": [
        {
          "output_type": "stream",
          "name": "stdout",
          "text": [
            "0.76275\n"
          ]
        }
      ]
    },
    {
      "cell_type": "code",
      "source": [
        "\"\"\"# CNN\"\"\"\n",
        "\n",
        "# CNN Model\n",
        "model = keras.Sequential()\n",
        "model.add(layers.Convolution2D(64, (3, 3),\n",
        "                        padding='same',\n",
        "                        input_shape=x_train.shape[1:], activation='relu'))\n",
        "model.add(layers.MaxPooling2D(pool_size=(3, 3)))\n",
        "model.add(layers.Convolution2D(128, (3, 3), padding='same', activation='relu'))\n",
        "model.add(layers.MaxPooling2D(pool_size=(3, 3)))\n",
        "model.add(layers.Convolution2D(64, (3, 3), padding='same', activation='relu'))\n",
        "model.add(layers.MaxPooling2D(pool_size =(3,3)))\n",
        "model.add(layers.Flatten())\n",
        "model.add(layers.Dense(128, activation='relu'))\n",
        "model.add(layers.Dense(num_classes, activation='softmax'))\n",
        "optimizer = tf.optimizers.Adam()\n",
        "model.compile(loss='sparse_categorical_crossentropy',\n",
        "              optimizer=optimizer,\n",
        "              metrics=['accuracy'])"
      ],
      "metadata": {
        "id": "qbMvOCbQbu-N"
      },
      "execution_count": null,
      "outputs": []
    },
    {
      "cell_type": "code",
      "source": [
        "\"\"\"Fitting model\"\"\"\n",
        "\n",
        "# Fit a model to the train data\n",
        "model.fit(x = x_train, y = y_train, batch_size = 100,  validation_split = 0.2, epochs=5)"
      ],
      "metadata": {
        "colab": {
          "base_uri": "https://localhost:8080/"
        },
        "id": "kLDl-Bt7cDoV",
        "outputId": "aff1557c-7bc2-49fc-858b-98d60a420068"
      },
      "execution_count": null,
      "outputs": [
        {
          "output_type": "stream",
          "name": "stdout",
          "text": [
            "Epoch 1/5\n",
            "384/384 [==============================] - 70s 182ms/step - loss: 0.3151 - accuracy: 0.9017 - val_loss: 0.3431 - val_accuracy: 0.8936\n",
            "Epoch 2/5\n",
            "384/384 [==============================] - 79s 207ms/step - loss: 0.2838 - accuracy: 0.9090 - val_loss: 0.3576 - val_accuracy: 0.8878\n",
            "Epoch 3/5\n",
            "384/384 [==============================] - 58s 151ms/step - loss: 0.2560 - accuracy: 0.9194 - val_loss: 0.3374 - val_accuracy: 0.8955\n",
            "Epoch 4/5\n",
            "384/384 [==============================] - 58s 151ms/step - loss: 0.2259 - accuracy: 0.9273 - val_loss: 0.3223 - val_accuracy: 0.8998\n",
            "Epoch 5/5\n",
            "384/384 [==============================] - 58s 150ms/step - loss: 0.2013 - accuracy: 0.9352 - val_loss: 0.3531 - val_accuracy: 0.8917\n"
          ]
        },
        {
          "output_type": "execute_result",
          "data": {
            "text/plain": [
              "<keras.src.callbacks.History at 0x7a5f3c1b52d0>"
            ]
          },
          "metadata": {},
          "execution_count": 27
        }
      ]
    },
    {
      "cell_type": "code",
      "source": [
        "\"\"\"Predicting\"\"\"\n",
        "\n",
        "y_predict = model.predict(x_test)\n",
        "y_predict[:2]"
      ],
      "metadata": {
        "colab": {
          "base_uri": "https://localhost:8080/"
        },
        "id": "nzmSds1vcLvD",
        "outputId": "5ccd61fb-e76f-42e4-cc27-01bcb4f9c85e"
      },
      "execution_count": null,
      "outputs": [
        {
          "output_type": "stream",
          "name": "stdout",
          "text": [
            "375/375 [==============================] - 5s 13ms/step\n"
          ]
        },
        {
          "output_type": "execute_result",
          "data": {
            "text/plain": [
              "array([[1.0254444e-05, 9.9830699e-01, 3.2981587e-04, 2.4160157e-05,\n",
              "        2.0208515e-04, 1.1672180e-04, 6.1930891e-04, 3.7662309e-04,\n",
              "        1.2961955e-05, 9.9414353e-07],\n",
              "       [1.8463181e-01, 3.1402189e-02, 1.2838727e-01, 6.3133836e-01,\n",
              "        3.1641650e-03, 1.6912626e-02, 3.6174184e-04, 3.4003169e-03,\n",
              "        3.8247512e-04, 1.8968511e-05]], dtype=float32)"
            ]
          },
          "metadata": {},
          "execution_count": 28
        }
      ]
    },
    {
      "cell_type": "code",
      "source": [
        "\"\"\"Testing Accuracy\"\"\"\n",
        "\n",
        "# Obtain the accuracy of the above model on the test data\n",
        "accuracy = model.evaluate(x_test, y_test)"
      ],
      "metadata": {
        "colab": {
          "base_uri": "https://localhost:8080/"
        },
        "id": "02TOX-oWcS2F",
        "outputId": "180fe3a0-ad4a-4d5e-f7af-7cdac1d99388"
      },
      "execution_count": null,
      "outputs": [
        {
          "output_type": "stream",
          "name": "stdout",
          "text": [
            "375/375 [==============================] - 5s 14ms/step - loss: 0.3576 - accuracy: 0.8927\n"
          ]
        }
      ]
    },
    {
      "cell_type": "code",
      "source": [
        "\n",
        "\"\"\"# Feature Selection\"\"\"\n",
        "\n",
        "# Taking old data inputs\n",
        "x_train = x_train_fea\n",
        "x_test = x_test_fea\n",
        "\n",
        "x_train_1d = x_train_fea\n",
        "x_test_1d = x_test_fea\n",
        "from sklearn.feature_selection import chi2, SelectKBest\n",
        "n_features = 400\n",
        "bestfeatures = SelectKBest(score_func=chi2, k=100)\n",
        "fit = bestfeatures.fit(x_train_1d, y_train)\n",
        "dfscores = pd.DataFrame(fit.scores_)\n",
        "dfcolumns = pd.DataFrame(range(len(x_train_1d)))\n",
        "#concat two dataframes for better visualization\n",
        "\n",
        "featureScores = pd.concat([dfcolumns, dfscores],axis=1)\n",
        "featureScores.columns = ['Specs','Score']  #naming the dataframe columns\n",
        "print(featureScores.nlargest(n_features,'Score'))  #print 1 best features"
      ],
      "metadata": {
        "colab": {
          "base_uri": "https://localhost:8080/"
        },
        "id": "vb3LSPIHcTfy",
        "outputId": "f2896503-7050-447d-b60f-551eb552e381"
      },
      "execution_count": null,
      "outputs": [
        {
          "output_type": "stream",
          "name": "stdout",
          "text": [
            "     Specs        Score\n",
            "529    529  5437.559870\n",
            "501    501  5039.785162\n",
            "506    506  5022.955930\n",
            "557    557  4787.562525\n",
            "534    534  4478.765143\n",
            "..     ...          ...\n",
            "242    242  1436.325036\n",
            "356    356  1425.688967\n",
            "294    294  1424.651433\n",
            "248    248  1408.654144\n",
            "304    304  1406.981281\n",
            "\n",
            "[400 rows x 2 columns]\n"
          ]
        }
      ]
    },
    {
      "cell_type": "code",
      "source": [
        "fit.scores_[100:120]"
      ],
      "metadata": {
        "colab": {
          "base_uri": "https://localhost:8080/"
        },
        "id": "9qT15O8Kcxru",
        "outputId": "00e92899-6761-48c5-c6d4-bcc0c7d7f0be"
      },
      "execution_count": null,
      "outputs": [
        {
          "output_type": "execute_result",
          "data": {
            "text/plain": [
              "array([2842.4199327 , 2798.36558354, 2704.09291301, 2613.41537744,\n",
              "       2589.35511149, 2694.10231243, 2512.96264094, 2142.55536148,\n",
              "       1574.00525058,  856.40036167,  156.99368132,           nan,\n",
              "                 nan,  198.96320076, 1089.92449554, 1907.69072381,\n",
              "       2538.81146236, 2813.1533671 , 2751.86024915, 2588.87127763])"
            ]
          },
          "metadata": {},
          "execution_count": 31
        }
      ]
    },
    {
      "cell_type": "code",
      "source": [
        "featureScores.nlargest(n_features,'Score')"
      ],
      "metadata": {
        "colab": {
          "base_uri": "https://localhost:8080/",
          "height": 423
        },
        "id": "n5Emstzgc0UD",
        "outputId": "95b5e231-dbd0-4146-9641-e0ff77b5f288"
      },
      "execution_count": null,
      "outputs": [
        {
          "output_type": "execute_result",
          "data": {
            "text/plain": [
              "     Specs        Score\n",
              "529    529  5437.559870\n",
              "501    501  5039.785162\n",
              "506    506  5022.955930\n",
              "557    557  4787.562525\n",
              "534    534  4478.765143\n",
              "..     ...          ...\n",
              "242    242  1436.325036\n",
              "356    356  1425.688967\n",
              "294    294  1424.651433\n",
              "248    248  1408.654144\n",
              "304    304  1406.981281\n",
              "\n",
              "[400 rows x 2 columns]"
            ],
            "text/html": [
              "\n",
              "  <div id=\"df-357e460a-fad2-4153-8e7a-ed68929fa54a\" class=\"colab-df-container\">\n",
              "    <div>\n",
              "<style scoped>\n",
              "    .dataframe tbody tr th:only-of-type {\n",
              "        vertical-align: middle;\n",
              "    }\n",
              "\n",
              "    .dataframe tbody tr th {\n",
              "        vertical-align: top;\n",
              "    }\n",
              "\n",
              "    .dataframe thead th {\n",
              "        text-align: right;\n",
              "    }\n",
              "</style>\n",
              "<table border=\"1\" class=\"dataframe\">\n",
              "  <thead>\n",
              "    <tr style=\"text-align: right;\">\n",
              "      <th></th>\n",
              "      <th>Specs</th>\n",
              "      <th>Score</th>\n",
              "    </tr>\n",
              "  </thead>\n",
              "  <tbody>\n",
              "    <tr>\n",
              "      <th>529</th>\n",
              "      <td>529</td>\n",
              "      <td>5437.559870</td>\n",
              "    </tr>\n",
              "    <tr>\n",
              "      <th>501</th>\n",
              "      <td>501</td>\n",
              "      <td>5039.785162</td>\n",
              "    </tr>\n",
              "    <tr>\n",
              "      <th>506</th>\n",
              "      <td>506</td>\n",
              "      <td>5022.955930</td>\n",
              "    </tr>\n",
              "    <tr>\n",
              "      <th>557</th>\n",
              "      <td>557</td>\n",
              "      <td>4787.562525</td>\n",
              "    </tr>\n",
              "    <tr>\n",
              "      <th>534</th>\n",
              "      <td>534</td>\n",
              "      <td>4478.765143</td>\n",
              "    </tr>\n",
              "    <tr>\n",
              "      <th>...</th>\n",
              "      <td>...</td>\n",
              "      <td>...</td>\n",
              "    </tr>\n",
              "    <tr>\n",
              "      <th>242</th>\n",
              "      <td>242</td>\n",
              "      <td>1436.325036</td>\n",
              "    </tr>\n",
              "    <tr>\n",
              "      <th>356</th>\n",
              "      <td>356</td>\n",
              "      <td>1425.688967</td>\n",
              "    </tr>\n",
              "    <tr>\n",
              "      <th>294</th>\n",
              "      <td>294</td>\n",
              "      <td>1424.651433</td>\n",
              "    </tr>\n",
              "    <tr>\n",
              "      <th>248</th>\n",
              "      <td>248</td>\n",
              "      <td>1408.654144</td>\n",
              "    </tr>\n",
              "    <tr>\n",
              "      <th>304</th>\n",
              "      <td>304</td>\n",
              "      <td>1406.981281</td>\n",
              "    </tr>\n",
              "  </tbody>\n",
              "</table>\n",
              "<p>400 rows × 2 columns</p>\n",
              "</div>\n",
              "    <div class=\"colab-df-buttons\">\n",
              "\n",
              "  <div class=\"colab-df-container\">\n",
              "    <button class=\"colab-df-convert\" onclick=\"convertToInteractive('df-357e460a-fad2-4153-8e7a-ed68929fa54a')\"\n",
              "            title=\"Convert this dataframe to an interactive table.\"\n",
              "            style=\"display:none;\">\n",
              "\n",
              "  <svg xmlns=\"http://www.w3.org/2000/svg\" height=\"24px\" viewBox=\"0 -960 960 960\">\n",
              "    <path d=\"M120-120v-720h720v720H120Zm60-500h600v-160H180v160Zm220 220h160v-160H400v160Zm0 220h160v-160H400v160ZM180-400h160v-160H180v160Zm440 0h160v-160H620v160ZM180-180h160v-160H180v160Zm440 0h160v-160H620v160Z\"/>\n",
              "  </svg>\n",
              "    </button>\n",
              "\n",
              "  <style>\n",
              "    .colab-df-container {\n",
              "      display:flex;\n",
              "      gap: 12px;\n",
              "    }\n",
              "\n",
              "    .colab-df-convert {\n",
              "      background-color: #E8F0FE;\n",
              "      border: none;\n",
              "      border-radius: 50%;\n",
              "      cursor: pointer;\n",
              "      display: none;\n",
              "      fill: #1967D2;\n",
              "      height: 32px;\n",
              "      padding: 0 0 0 0;\n",
              "      width: 32px;\n",
              "    }\n",
              "\n",
              "    .colab-df-convert:hover {\n",
              "      background-color: #E2EBFA;\n",
              "      box-shadow: 0px 1px 2px rgba(60, 64, 67, 0.3), 0px 1px 3px 1px rgba(60, 64, 67, 0.15);\n",
              "      fill: #174EA6;\n",
              "    }\n",
              "\n",
              "    .colab-df-buttons div {\n",
              "      margin-bottom: 4px;\n",
              "    }\n",
              "\n",
              "    [theme=dark] .colab-df-convert {\n",
              "      background-color: #3B4455;\n",
              "      fill: #D2E3FC;\n",
              "    }\n",
              "\n",
              "    [theme=dark] .colab-df-convert:hover {\n",
              "      background-color: #434B5C;\n",
              "      box-shadow: 0px 1px 3px 1px rgba(0, 0, 0, 0.15);\n",
              "      filter: drop-shadow(0px 1px 2px rgba(0, 0, 0, 0.3));\n",
              "      fill: #FFFFFF;\n",
              "    }\n",
              "  </style>\n",
              "\n",
              "    <script>\n",
              "      const buttonEl =\n",
              "        document.querySelector('#df-357e460a-fad2-4153-8e7a-ed68929fa54a button.colab-df-convert');\n",
              "      buttonEl.style.display =\n",
              "        google.colab.kernel.accessAllowed ? 'block' : 'none';\n",
              "\n",
              "      async function convertToInteractive(key) {\n",
              "        const element = document.querySelector('#df-357e460a-fad2-4153-8e7a-ed68929fa54a');\n",
              "        const dataTable =\n",
              "          await google.colab.kernel.invokeFunction('convertToInteractive',\n",
              "                                                    [key], {});\n",
              "        if (!dataTable) return;\n",
              "\n",
              "        const docLinkHtml = 'Like what you see? Visit the ' +\n",
              "          '<a target=\"_blank\" href=https://colab.research.google.com/notebooks/data_table.ipynb>data table notebook</a>'\n",
              "          + ' to learn more about interactive tables.';\n",
              "        element.innerHTML = '';\n",
              "        dataTable['output_type'] = 'display_data';\n",
              "        await google.colab.output.renderOutput(dataTable, element);\n",
              "        const docLink = document.createElement('div');\n",
              "        docLink.innerHTML = docLinkHtml;\n",
              "        element.appendChild(docLink);\n",
              "      }\n",
              "    </script>\n",
              "  </div>\n",
              "\n",
              "\n",
              "<div id=\"df-a75d73b8-315f-44ff-8d59-e3d8808065b6\">\n",
              "  <button class=\"colab-df-quickchart\" onclick=\"quickchart('df-a75d73b8-315f-44ff-8d59-e3d8808065b6')\"\n",
              "            title=\"Suggest charts\"\n",
              "            style=\"display:none;\">\n",
              "\n",
              "<svg xmlns=\"http://www.w3.org/2000/svg\" height=\"24px\"viewBox=\"0 0 24 24\"\n",
              "     width=\"24px\">\n",
              "    <g>\n",
              "        <path d=\"M19 3H5c-1.1 0-2 .9-2 2v14c0 1.1.9 2 2 2h14c1.1 0 2-.9 2-2V5c0-1.1-.9-2-2-2zM9 17H7v-7h2v7zm4 0h-2V7h2v10zm4 0h-2v-4h2v4z\"/>\n",
              "    </g>\n",
              "</svg>\n",
              "  </button>\n",
              "\n",
              "<style>\n",
              "  .colab-df-quickchart {\n",
              "      --bg-color: #E8F0FE;\n",
              "      --fill-color: #1967D2;\n",
              "      --hover-bg-color: #E2EBFA;\n",
              "      --hover-fill-color: #174EA6;\n",
              "      --disabled-fill-color: #AAA;\n",
              "      --disabled-bg-color: #DDD;\n",
              "  }\n",
              "\n",
              "  [theme=dark] .colab-df-quickchart {\n",
              "      --bg-color: #3B4455;\n",
              "      --fill-color: #D2E3FC;\n",
              "      --hover-bg-color: #434B5C;\n",
              "      --hover-fill-color: #FFFFFF;\n",
              "      --disabled-bg-color: #3B4455;\n",
              "      --disabled-fill-color: #666;\n",
              "  }\n",
              "\n",
              "  .colab-df-quickchart {\n",
              "    background-color: var(--bg-color);\n",
              "    border: none;\n",
              "    border-radius: 50%;\n",
              "    cursor: pointer;\n",
              "    display: none;\n",
              "    fill: var(--fill-color);\n",
              "    height: 32px;\n",
              "    padding: 0;\n",
              "    width: 32px;\n",
              "  }\n",
              "\n",
              "  .colab-df-quickchart:hover {\n",
              "    background-color: var(--hover-bg-color);\n",
              "    box-shadow: 0 1px 2px rgba(60, 64, 67, 0.3), 0 1px 3px 1px rgba(60, 64, 67, 0.15);\n",
              "    fill: var(--button-hover-fill-color);\n",
              "  }\n",
              "\n",
              "  .colab-df-quickchart-complete:disabled,\n",
              "  .colab-df-quickchart-complete:disabled:hover {\n",
              "    background-color: var(--disabled-bg-color);\n",
              "    fill: var(--disabled-fill-color);\n",
              "    box-shadow: none;\n",
              "  }\n",
              "\n",
              "  .colab-df-spinner {\n",
              "    border: 2px solid var(--fill-color);\n",
              "    border-color: transparent;\n",
              "    border-bottom-color: var(--fill-color);\n",
              "    animation:\n",
              "      spin 1s steps(1) infinite;\n",
              "  }\n",
              "\n",
              "  @keyframes spin {\n",
              "    0% {\n",
              "      border-color: transparent;\n",
              "      border-bottom-color: var(--fill-color);\n",
              "      border-left-color: var(--fill-color);\n",
              "    }\n",
              "    20% {\n",
              "      border-color: transparent;\n",
              "      border-left-color: var(--fill-color);\n",
              "      border-top-color: var(--fill-color);\n",
              "    }\n",
              "    30% {\n",
              "      border-color: transparent;\n",
              "      border-left-color: var(--fill-color);\n",
              "      border-top-color: var(--fill-color);\n",
              "      border-right-color: var(--fill-color);\n",
              "    }\n",
              "    40% {\n",
              "      border-color: transparent;\n",
              "      border-right-color: var(--fill-color);\n",
              "      border-top-color: var(--fill-color);\n",
              "    }\n",
              "    60% {\n",
              "      border-color: transparent;\n",
              "      border-right-color: var(--fill-color);\n",
              "    }\n",
              "    80% {\n",
              "      border-color: transparent;\n",
              "      border-right-color: var(--fill-color);\n",
              "      border-bottom-color: var(--fill-color);\n",
              "    }\n",
              "    90% {\n",
              "      border-color: transparent;\n",
              "      border-bottom-color: var(--fill-color);\n",
              "    }\n",
              "  }\n",
              "</style>\n",
              "\n",
              "  <script>\n",
              "    async function quickchart(key) {\n",
              "      const quickchartButtonEl =\n",
              "        document.querySelector('#' + key + ' button');\n",
              "      quickchartButtonEl.disabled = true;  // To prevent multiple clicks.\n",
              "      quickchartButtonEl.classList.add('colab-df-spinner');\n",
              "      try {\n",
              "        const charts = await google.colab.kernel.invokeFunction(\n",
              "            'suggestCharts', [key], {});\n",
              "      } catch (error) {\n",
              "        console.error('Error during call to suggestCharts:', error);\n",
              "      }\n",
              "      quickchartButtonEl.classList.remove('colab-df-spinner');\n",
              "      quickchartButtonEl.classList.add('colab-df-quickchart-complete');\n",
              "    }\n",
              "    (() => {\n",
              "      let quickchartButtonEl =\n",
              "        document.querySelector('#df-a75d73b8-315f-44ff-8d59-e3d8808065b6 button');\n",
              "      quickchartButtonEl.style.display =\n",
              "        google.colab.kernel.accessAllowed ? 'block' : 'none';\n",
              "    })();\n",
              "  </script>\n",
              "</div>\n",
              "\n",
              "    </div>\n",
              "  </div>\n"
            ],
            "application/vnd.google.colaboratory.intrinsic+json": {
              "type": "dataframe",
              "summary": "{\n  \"name\": \"featureScores\",\n  \"rows\": 400,\n  \"fields\": [\n    {\n      \"column\": \"Specs\",\n      \"properties\": {\n        \"dtype\": \"number\",\n        \"std\": 209,\n        \"min\": 61,\n        \"max\": 721,\n        \"num_unique_values\": 400,\n        \"samples\": [\n          351,\n          232,\n          709\n        ],\n        \"semantic_type\": \"\",\n        \"description\": \"\"\n      }\n    },\n    {\n      \"column\": \"Score\",\n      \"properties\": {\n        \"dtype\": \"number\",\n        \"std\": 605.5174719555484,\n        \"min\": 1406.9812813824576,\n        \"max\": 5437.559869660702,\n        \"num_unique_values\": 400,\n        \"samples\": [\n          2056.534498101603,\n          1860.354203642124,\n          2942.066748009166\n        ],\n        \"semantic_type\": \"\",\n        \"description\": \"\"\n      }\n    }\n  ]\n}"
            }
          },
          "metadata": {},
          "execution_count": 32
        }
      ]
    },
    {
      "cell_type": "code",
      "source": [
        "sns.displot(data=featureScores.nlargest(n_features,'Score'), x=\"Score\", y=\"Specs\", color=\"Red\")"
      ],
      "metadata": {
        "colab": {
          "base_uri": "https://localhost:8080/",
          "height": 524
        },
        "id": "GBNiVoZmc38K",
        "outputId": "392f036b-5240-47b1-cdd8-4567c6645601"
      },
      "execution_count": null,
      "outputs": [
        {
          "output_type": "execute_result",
          "data": {
            "text/plain": [
              "<seaborn.axisgrid.FacetGrid at 0x7a5f3c2022c0>"
            ]
          },
          "metadata": {},
          "execution_count": 33
        },
        {
          "output_type": "display_data",
          "data": {
            "text/plain": [
              "<Figure size 500x500 with 1 Axes>"
            ],
            "image/png": "[encoded data removed]"
          },
          "metadata": {}
        }
      ]
    },
    {
      "cell_type": "code",
      "source": [
        "train_x_new = []\n",
        "for x_tr in x_train_1d:\n",
        "  temp = []\n",
        "  for i in featureScores.nlargest(n_features, 'Score')['Specs']:\n",
        "      temp.append(x_tr[i])\n",
        "  train_x_new.append(temp)\n",
        "\n",
        "train_x_new[0][115:120]"
      ],
      "metadata": {
        "colab": {
          "base_uri": "https://localhost:8080/"
        },
        "id": "XeQeRsNzc4dO",
        "outputId": "9fcdbb31-30d2-4cc2-fe2e-87382aedabf4"
      },
      "execution_count": null,
      "outputs": [
        {
          "output_type": "execute_result",
          "data": {
            "text/plain": [
              "[0.0, 0.0, 0.0, 0.0, 0.0]"
            ]
          },
          "metadata": {},
          "execution_count": 34
        }
      ]
    },
    {
      "cell_type": "code",
      "source": [
        "test_x_new = []\n",
        "for x_te in x_test_1d:\n",
        "  temp = []\n",
        "  for i in featureScores.nlargest(n_features, 'Score')['Specs']:\n",
        "      temp.append(x_te[i])\n",
        "  test_x_new.append(temp)\n",
        "\n",
        "test_x_new[0][:10]"
      ],
      "metadata": {
        "colab": {
          "base_uri": "https://localhost:8080/"
        },
        "id": "apNfg8gtdBwV",
        "outputId": "6a16da81-d4f3-4234-e42a-138bac3b6b81"
      },
      "execution_count": null,
      "outputs": [
        {
          "output_type": "execute_result",
          "data": {
            "text/plain": [
              "[0.0, 0.0, 0.0, 0.0, 0.0, 0.0, 0.0, 0.0, 0.0, 0.0]"
            ]
          },
          "metadata": {},
          "execution_count": 35
        }
      ]
    },
    {
      "cell_type": "code",
      "source": [
        "print(len(train_x_new))\n",
        "print(len(test_x_new))"
      ],
      "metadata": {
        "colab": {
          "base_uri": "https://localhost:8080/"
        },
        "id": "GBABotAXdClf",
        "outputId": "738d0ed1-fc09-455e-fc01-08d006934580"
      },
      "execution_count": null,
      "outputs": [
        {
          "output_type": "stream",
          "name": "stdout",
          "text": [
            "48000\n",
            "12000\n"
          ]
        }
      ]
    },
    {
      "cell_type": "code",
      "source": [
        "\"\"\"# Updating the dataset with new features\"\"\"\n",
        "\n",
        "x_train = np.array(train_x_new)\n",
        "x_test = np.array(test_x_new)\n",
        "\n",
        "x_train_1d = x_train\n",
        "x_test_1d = x_test\n",
        "# Reshape the image size to be 20 x 20\n",
        "image_size = 20\n",
        "x_train = x_train.reshape(x_train.shape[0], image_size, image_size, 1)\n",
        "x_test = x_test.reshape(x_test.shape[0], image_size, image_size, 1)"
      ],
      "metadata": {
        "id": "Y7BluKnEdJTv"
      },
      "execution_count": null,
      "outputs": []
    },
    {
      "cell_type": "code",
      "source": [
        "\"\"\"# Random Forest\"\"\"\n",
        "\n",
        "from sklearn.model_selection import GridSearchCV\n",
        "from sklearn.ensemble import RandomForestClassifier\n",
        "parameters = {'n_estimators': [100,120,140,160]}\n",
        "\n",
        "clf_rf_fe = RandomForestClassifier(n_estimators = 280, n_jobs=-1, random_state=0)\n",
        "# clf_rf = GridSearchCV(clf_rf, parameters, n_jobs=-1)\n",
        "clf_rf_fe.fit(x_train_1d, y_train)\n",
        "\n",
        "y_pred = clf_rf_fe.predict(x_test_1d)\n",
        "print(y_pred[:10])\n",
        "\n",
        "accuracy = accuracy_score(y_test, y_pred)\n",
        "print(accuracy)\n"
      ],
      "metadata": {
        "colab": {
          "base_uri": "https://localhost:8080/"
        },
        "id": "wUt1-ugcdSt5",
        "outputId": "931dfd42-35e3-46fc-80a2-852ceaa1d70e"
      },
      "execution_count": null,
      "outputs": [
        {
          "output_type": "stream",
          "name": "stdout",
          "text": [
            "[1. 6. 9. 7. 0. 2. 4. 0. 6. 1.]\n",
            "0.7655\n"
          ]
        }
      ]
    },
    {
      "cell_type": "code",
      "source": [
        "\"\"\"# KNN\"\"\"\n",
        "\n",
        "from sklearn.neighbors import KNeighborsClassifier\n",
        "\n",
        "tuning_parameters = {'n_neighbors': [1,3,5,7,9,11]}\n",
        "\n",
        "knn_fe = KNeighborsClassifier(n_neighbors = 5, n_jobs=-1)\n",
        "# knn = GridSearchCV(clf_knn, tuning_parameters, n_jobs=-1)\n",
        "knn_fe.fit(x_train_1d, y_train)\n",
        "\n",
        "y_pred = knn_fe.predict(x_test_1d)\n",
        "print(y_pred[:10])\n",
        "\n",
        "accuracy = accuracy_score(y_test, y_pred)\n",
        "print(accuracy)"
      ],
      "metadata": {
        "colab": {
          "base_uri": "https://localhost:8080/"
        },
        "id": "0xmVVO-CdazZ",
        "outputId": "1203d738-d1b6-4efa-efb4-c5a0c621bbab"
      },
      "execution_count": null,
      "outputs": [
        {
          "output_type": "stream",
          "name": "stdout",
          "text": [
            "[1. 3. 9. 7. 0. 2. 4. 0. 0. 1.]\n",
            "0.71325\n"
          ]
        }
      ]
    },
    {
      "cell_type": "code",
      "source": [
        "\"\"\"# MLP\"\"\"\n",
        "\n",
        "from sklearn.neural_network import MLPClassifier\n",
        "\n",
        "tuning_parameaters = {'hidden_layer_sizes' : [(50,), (100,), (784,), (50,50), (100,100), (784,784), (50,50,50), (100,100,100)],\n",
        "                    'alpha' : list(10.0 ** -np.arange(1, 7))}\n",
        "\n",
        "mlp_fe = MLPClassifier(hidden_layer_sizes=(784,784), random_state=0)\n",
        "# mlp = GridSearchCV(clf_mlp, param_grid=tuning_parameaters, n_jobs=-1)\n",
        "mlp_fe.fit(x_train_1d, y_train)\n",
        "\n",
        "y_pred = mlp_fe.predict(x_test_1d)\n",
        "print(y_pred[:10])\n",
        "\n",
        "accuracy = accuracy_score(y_test, y_pred)\n",
        "print(accuracy)"
      ],
      "metadata": {
        "colab": {
          "base_uri": "https://localhost:8080/"
        },
        "id": "wWkhtYeddfCb",
        "outputId": "b24b7453-9ccc-4ed1-f8df-878ce7972cf3"
      },
      "execution_count": null,
      "outputs": [
        {
          "output_type": "stream",
          "name": "stdout",
          "text": [
            "[1. 3. 9. 7. 0. 0. 4. 0. 1. 1.]\n",
            "0.7920833333333334\n"
          ]
        }
      ]
    },
    {
      "cell_type": "code",
      "source": [
        "\"\"\"# CNN\"\"\"\n",
        "\n",
        "# Reshaping\n",
        "image_size = 28\n",
        "x_train = x_train_fea.reshape(x_train.shape[0], image_size, image_size, 1)\n",
        "x_test = x_test_fea.reshape(x_test.shape[0], image_size, image_size, 1)\n",
        "\n",
        "# CNN Model\n",
        "model_fe = keras.Sequential()\n",
        "model_fe.add(layers.Convolution2D(64, (3, 3),\n",
        "                        padding='same',\n",
        "                        input_shape=x_train.shape[1:], activation='relu'))\n",
        "model_fe.add(layers.MaxPooling2D(pool_size=(3, 3)))\n",
        "model_fe.add(layers.Convolution2D(128, (3, 3), padding='same', activation='relu'))\n",
        "model_fe.add(layers.MaxPooling2D(pool_size=(3, 3)))\n",
        "model_fe.add(layers.Convolution2D(64, (3, 3), padding='same', activation='relu'))\n",
        "model_fe.add(layers.MaxPooling2D(pool_size =(3,3)))\n",
        "model_fe.add(layers.Flatten())\n",
        "model_fe.add(layers.Dense(128, activation='relu'))\n",
        "model_fe.add(layers.Dense(len(classes), activation='softmax'))\n",
        "optimizer = tf.optimizers.Adam()\n",
        "model_fe.compile(loss='sparse_categorical_crossentropy',\n",
        "              optimizer=optimizer,\n",
        "              metrics=['accuracy'])\n",
        "\n",
        "# Fit a model to the train data\n",
        "model_fe.fit(x = x_train, y = y_train, batch_size = 100,  validation_split = 0.2, epochs=15)\n",
        "\n",
        "y_pred = model_fe.predict(x_test)\n",
        "print(y_pred[:2])\n",
        "\n",
        "# Obtain the accuracy of the above model on the test data\n",
        "accuracy = model_fe.evaluate(x_test, y_test)\n",
        "print(\"Accuracy =\", accuracy)"
      ],
      "metadata": {
        "colab": {
          "base_uri": "https://localhost:8080/"
        },
        "id": "k-lzofptdnjh",
        "outputId": "1e422561-0f44-4fd3-f32f-7b6d97f5ce97"
      },
      "execution_count": null,
      "outputs": [
        {
          "output_type": "stream",
          "name": "stdout",
          "text": [
            "Epoch 1/15\n",
            "384/384 [==============================] - 82s 162ms/step - loss: 0.9333 - accuracy: 0.6982 - val_loss: 0.5763 - val_accuracy: 0.8163\n",
            "Epoch 2/15\n",
            "384/384 [==============================] - 63s 164ms/step - loss: 0.5207 - accuracy: 0.8410 - val_loss: 0.4509 - val_accuracy: 0.8610\n",
            "Epoch 3/15\n",
            "384/384 [==============================] - 62s 162ms/step - loss: 0.4191 - accuracy: 0.8713 - val_loss: 0.3897 - val_accuracy: 0.8799\n",
            "Epoch 4/15\n",
            "384/384 [==============================] - 62s 163ms/step - loss: 0.3574 - accuracy: 0.8894 - val_loss: 0.3498 - val_accuracy: 0.8909\n",
            "Epoch 5/15\n",
            "384/384 [==============================] - 62s 162ms/step - loss: 0.3160 - accuracy: 0.9029 - val_loss: 0.3455 - val_accuracy: 0.8918\n",
            "Epoch 6/15\n",
            "384/384 [==============================] - 64s 166ms/step - loss: 0.2777 - accuracy: 0.9131 - val_loss: 0.3671 - val_accuracy: 0.8877\n",
            "Epoch 7/15\n",
            "384/384 [==============================] - 64s 167ms/step - loss: 0.2498 - accuracy: 0.9209 - val_loss: 0.3333 - val_accuracy: 0.8960\n",
            "Epoch 8/15\n",
            "384/384 [==============================] - 64s 166ms/step - loss: 0.2275 - accuracy: 0.9274 - val_loss: 0.3424 - val_accuracy: 0.8921\n",
            "Epoch 9/15\n",
            "384/384 [==============================] - 64s 166ms/step - loss: 0.2000 - accuracy: 0.9354 - val_loss: 0.3668 - val_accuracy: 0.8945\n",
            "Epoch 10/15\n",
            "384/384 [==============================] - 61s 160ms/step - loss: 0.1793 - accuracy: 0.9414 - val_loss: 0.3306 - val_accuracy: 0.9019\n",
            "Epoch 11/15\n",
            "384/384 [==============================] - 63s 164ms/step - loss: 0.1569 - accuracy: 0.9491 - val_loss: 0.3412 - val_accuracy: 0.9024\n",
            "Epoch 12/15\n",
            "384/384 [==============================] - 63s 164ms/step - loss: 0.1369 - accuracy: 0.9553 - val_loss: 0.3448 - val_accuracy: 0.9073\n",
            "Epoch 13/15\n",
            "384/384 [==============================] - 62s 162ms/step - loss: 0.1152 - accuracy: 0.9626 - val_loss: 0.3850 - val_accuracy: 0.8961\n",
            "Epoch 14/15\n",
            "384/384 [==============================] - 60s 157ms/step - loss: 0.1019 - accuracy: 0.9666 - val_loss: 0.3944 - val_accuracy: 0.8992\n",
            "Epoch 15/15\n",
            "384/384 [==============================] - 59s 154ms/step - loss: 0.0855 - accuracy: 0.9714 - val_loss: 0.3984 - val_accuracy: 0.9039\n",
            "375/375 [==============================] - 5s 13ms/step\n",
            "[[2.91978745e-06 9.99952972e-01 1.98260477e-06 3.58963807e-05\n",
            "  2.73788191e-06 1.04901846e-06 8.42073518e-07 1.58129308e-06\n",
            "  2.82191670e-09 2.75620149e-08]\n",
            " [1.02072675e-02 1.18236151e-03 2.09525519e-04 9.88195956e-01\n",
            "  1.30748795e-05 5.43567585e-05 2.72708061e-08 1.26522049e-04\n",
            "  1.07012147e-05 2.31434740e-07]]\n",
            "375/375 [==============================] - 5s 14ms/step - loss: 0.4028 - accuracy: 0.9013\n",
            "Accuracy = [0.4027625620365143, 0.9012500047683716]\n"
          ]
        }
      ]
    },
    {
      "cell_type": "code",
      "source": [
        "df = pd.DataFrame([[0.769, 0.788]])\n",
        "ax = sns.barplot(data=df, ci=\"sd\")"
      ],
      "metadata": {
        "colab": {
          "base_uri": "https://localhost:8080/",
          "height": 517
        },
        "id": "4UfafTZfeJcu",
        "outputId": "90b6b834-52f2-42a0-d1dd-2b3e9e36beff"
      },
      "execution_count": null,
      "outputs": [
        {
          "output_type": "stream",
          "name": "stderr",
          "text": [
            "<ipython-input-43-f1a1eaa6f4e8>:2: FutureWarning: \n",
            "\n",
            "The `ci` parameter is deprecated. Use `errorbar='sd'` for the same effect.\n",
            "\n",
            "  ax = sns.barplot(data=df, ci=\"sd\")\n"
          ]
        },
        {
          "output_type": "display_data",
          "data": {
            "text/plain": [
              "<Figure size 640x480 with 1 Axes>"
            ],
            "image/png": "[encoded data removed]"
          },
          "metadata": {}
        }
      ]
    },
    {
      "cell_type": "code",
      "source": [
        "df = pd.DataFrame([[0.707, 0.73375]])\n",
        "ax = sns.barplot(data=df, ci=\"sd\")"
      ],
      "metadata": {
        "colab": {
          "base_uri": "https://localhost:8080/",
          "height": 517
        },
        "id": "lN42hTi5eOrc",
        "outputId": "2159cb20-e38c-4559-d8de-24a419ad9b58"
      },
      "execution_count": null,
      "outputs": [
        {
          "output_type": "stream",
          "name": "stderr",
          "text": [
            "<ipython-input-44-ad8cb660bc59>:2: FutureWarning: \n",
            "\n",
            "The `ci` parameter is deprecated. Use `errorbar='sd'` for the same effect.\n",
            "\n",
            "  ax = sns.barplot(data=df, ci=\"sd\")\n"
          ]
        },
        {
          "output_type": "display_data",
          "data": {
            "text/plain": [
              "<Figure size 640x480 with 1 Axes>"
            ],
            "image/png": "[encoded data removed]"
          },
          "metadata": {}
        }
      ]
    },
    {
      "cell_type": "code",
      "source": [
        "df = pd.DataFrame([[0.759, 0.788]])\n",
        "ax = sns.barplot(data=df, ci=\"sd\")"
      ],
      "metadata": {
        "colab": {
          "base_uri": "https://localhost:8080/",
          "height": 517
        },
        "id": "N9lVhtoceQuZ",
        "outputId": "ae643b62-5b77-4b73-c7bd-2bc5ee8d5d73"
      },
      "execution_count": null,
      "outputs": [
        {
          "output_type": "stream",
          "name": "stderr",
          "text": [
            "<ipython-input-45-74be3d5523d0>:2: FutureWarning: \n",
            "\n",
            "The `ci` parameter is deprecated. Use `errorbar='sd'` for the same effect.\n",
            "\n",
            "  ax = sns.barplot(data=df, ci=\"sd\")\n"
          ]
        },
        {
          "output_type": "display_data",
          "data": {
            "text/plain": [
              "<Figure size 640x480 with 1 Axes>"
            ],
            "image/png": "[encoded data removed]"
          },
          "metadata": {}
        }
      ]
    },
    {
      "cell_type": "code",
      "source": [
        "df = pd.DataFrame([[0.8717, 0.8924]])\n",
        "ax = sns.barplot(data=df, ci=\"sd\")"
      ],
      "metadata": {
        "colab": {
          "base_uri": "https://localhost:8080/",
          "height": 517
        },
        "id": "A4OQr3wIeUFR",
        "outputId": "288cc92c-ae90-4389-b7a9-d290c7b5b1ba"
      },
      "execution_count": null,
      "outputs": [
        {
          "output_type": "stream",
          "name": "stderr",
          "text": [
            "<ipython-input-46-e62977151ae2>:2: FutureWarning: \n",
            "\n",
            "The `ci` parameter is deprecated. Use `errorbar='sd'` for the same effect.\n",
            "\n",
            "  ax = sns.barplot(data=df, ci=\"sd\")\n"
          ]
        },
        {
          "output_type": "display_data",
          "data": {
            "text/plain": [
              "<Figure size 640x480 with 1 Axes>"
            ],
            "image/png": "[encoded data removed]"
          },
          "metadata": {}
        }
      ]
    }
  ]
}